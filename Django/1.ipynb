{
 "cells": [
  {
   "cell_type": "code",
   "execution_count": null,
   "metadata": {},
   "outputs": [],
   "source": [
    "# admin.py\n",
    "\n",
    "from django.contrib import admin\n",
    "from .models import Book # Import the model you want to register\n",
    "# Register your model\n",
    "@admin.register(Book)\n",
    "class BookAdmin(admin.ModelAdmin):\n",
    "list_display = ('title', 'author', 'published_date', 'isbn') # Fields to display in the admin list view\n",
    "search_fields = ('title', 'author') # Fields to search by\n",
    "list_filter = ('published_date',) # Filter the admin list by published date"
   ]
  }
 ],
 "metadata": {
  "kernelspec": {
   "display_name": "Python 3",
   "language": "python",
   "name": "python3"
  },
  "language_info": {
   "codemirror_mode": {
    "name": "ipython",
    "version": 3
   },
   "file_extension": ".py",
   "mimetype": "text/x-python",
   "name": "python",
   "nbconvert_exporter": "python",
   "pygments_lexer": "ipython3",
   "version": "3.11.3"
  }
 },
 "nbformat": 4,
 "nbformat_minor": 2
}
