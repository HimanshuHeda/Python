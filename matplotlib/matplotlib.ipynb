{
 "cells": [
  {
   "cell_type": "code",
   "execution_count": null,
   "metadata": {},
   "outputs": [],
   "source": [
    "import matplotlib.pyplot as plt \n",
    "\n",
    "x = [1, 2, 3, 4, 5]\n",
    "y = [1, 4, 6, 8, 2]\n",
    "\n",
    "plt.fill_between(x, y)\n",
    "plt.title('Area Chart')\n",
    "plt.show()\n",
    "\n",
    "# plt.fill_between([1, 2, 3, 4, 5], [1, 4, 6, 8, 2])\n",
    "# plt.title('Area Chart')\n",
    "# plt.show()"
   ]
  },
  {
   "cell_type": "code",
   "execution_count": null,
   "metadata": {},
   "outputs": [],
   "source": [
    "#  Compare 2 array \n",
    "\n",
    "import numpy as np\n",
    "\n",
    "# Define two arrays\n",
    "array1 = np.array([1, 2, 3, 4])\n",
    "array2 = np.array([1, 2, 3, 4])\n",
    "\n",
    "# Compare arrays for equality\n",
    "are_equal = np.array_equal(array1, array2)\n",
    "\n",
    "# Output result\n",
    "if are_equal:\n",
    "    print(\"The arrays are equal.\")\n",
    "else:\n",
    "    print(\"The arrays are not equal.\")\n"
   ]
  },
  {
   "cell_type": "code",
   "execution_count": null,
   "metadata": {},
   "outputs": [],
   "source": [
    "# PROGRAM FOR BAR CHART\n",
    "\n",
    "import matplotlib.pyplot as plt\n",
    "\n",
    "\n",
    "plt.plot(['A', 'B', 'C'], [10, 20, 15])\n",
    "plt.title('BAR Chart')\n",
    "plt.show()\n"
   ]
  },
  {
   "cell_type": "code",
   "execution_count": null,
   "metadata": {},
   "outputs": [],
   "source": [
    "# Program for heap \n",
    " \n",
    "import seaborn as sns \n",
    "import numpy as np \n",
    "import matplotlib.pyplot as plt   \n",
    "\n",
    "data = np.random.rand(10, 10) \n",
    "sns.heatmap(data) \n",
    "plt.title('Heatmap') \n",
    "plt.show()"
   ]
  },
  {
   "cell_type": "code",
   "execution_count": null,
   "metadata": {},
   "outputs": [],
   "source": [
    "import matplotlib.pyplot as plt\n",
    "import numpy as np\n",
    "\n",
    "x = np.random.normal(170,10,230)\n",
    "\n",
    "plt.hist(x)\n",
    "plt.title('Pie Chat')\n",
    "plt.show()"
   ]
  },
  {
   "cell_type": "code",
   "execution_count": null,
   "metadata": {},
   "outputs": [],
   "source": [
    "# WAP PROGRAM FOR LINE CHART \n",
    "\n",
    "import matplotlib.pyplot as plt\n",
    "import numpy as np\n",
    "\n",
    "x = np.array([8, 1, 3, 10])\n",
    "\n",
    "# Corrected plot function call\n",
    "plt.plot(x, linestyle=\"dotted\")\n",
    "plt.show()\n"
   ]
  },
  {
   "cell_type": "code",
   "execution_count": null,
   "metadata": {},
   "outputs": [],
   "source": [
    "import matplotlib.pyplot as plt\n",
    "\n",
    "x = [1, 2, 3, 4, 5]\n",
    "y = [10, 20, 15, 25, 30]\n",
    "\n",
    "plt.plot(x,y)\n",
    "plt.title('Line Chart')\n",
    "plt.show()\n"
   ]
  },
  {
   "cell_type": "code",
   "execution_count": null,
   "metadata": {},
   "outputs": [],
   "source": [
    "import seaborn as sns\n",
    "# import pandas as pd\n",
    "import matplotlib.pyplot as plt \n",
    "\n",
    "\n",
    "df = sns.load_dataset('iris')\n",
    "sns.pairplot(df)\n",
    "plt.show()"
   ]
  },
  {
   "cell_type": "code",
   "execution_count": null,
   "metadata": {},
   "outputs": [],
   "source": [
    "#  Program for PIE chart \n",
    "\n",
    "\n",
    "import matplotlib.pyplot as plt\n",
    "# import numpy as np\n",
    "\n",
    "labels= ['A','B','C']\n",
    "sizes= [20,30,50]\n",
    "\n",
    "plt.pie(sizes, labels=labels)\n",
    "plt.title('pie chart')\n",
    "plt.show()\n"
   ]
  },
  {
   "cell_type": "code",
   "execution_count": null,
   "metadata": {},
   "outputs": [],
   "source": [
    "# Program for Scatter \n",
    "\n",
    "import matplotlib.pyplot as plt\n",
    "\n",
    "x = [1, 2, 3, 4, 5]\n",
    "y = [10, 20, 15, 30, 25]\n",
    "\n",
    "plt.scatter(x ,y)\n",
    "plt.title('Pie Chat')\n",
    "plt.show()\n"
   ]
  },
  {
   "cell_type": "code",
   "execution_count": null,
   "metadata": {},
   "outputs": [],
   "source": [
    "#  Program for standered deviation \n",
    "\n",
    "import numpy as np\n",
    "\n",
    "# Create an array\n",
    "arr = np.array([1, 2, 3, 4, 5])\n",
    "\n",
    "# Calculate the standard deviation\n",
    "std_dev = np.std(arr)\n",
    "\n",
    "print(\"Standard Deviation:\", std_dev)"
   ]
  },
  {
   "cell_type": "code",
   "execution_count": null,
   "metadata": {},
   "outputs": [],
   "source": [
    "import seaborn as sns\n",
    "import matplotlib.pyplot as plt\n",
    "\n",
    "# Load the example tips dataset\n",
    "tips = sns.load_dataset(\"tips\")\n",
    "\n",
    "# Create a violin plot\n",
    "plt.figure(figsize=(10, 6))\n",
    "sns.violinplot(x=\"day\", y=\"total_bill\", data=tips)\n",
    "\n",
    "# Add title and labels\n",
    "plt.title(\"Violin Plot of Total Bill by Day\")\n",
    "plt.xlabel(\"Day of the Week\")\n",
    "plt.ylabel(\"Total Bill\")\n",
    "\n",
    "# Show the plot\n",
    "plt.show()"
   ]
  }
 ],
 "metadata": {
  "kernelspec": {
   "display_name": "Python 3",
   "language": "python",
   "name": "python3"
  },
  "language_info": {
   "codemirror_mode": {
    "name": "ipython",
    "version": 3
   },
   "file_extension": ".py",
   "mimetype": "text/x-python",
   "name": "python",
   "nbconvert_exporter": "python",
   "pygments_lexer": "ipython3",
   "version": "3.11.3"
  }
 },
 "nbformat": 4,
 "nbformat_minor": 2
}
