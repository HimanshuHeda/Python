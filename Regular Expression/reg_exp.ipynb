{
 "cells": [
  {
   "cell_type": "code",
   "execution_count": 1,
   "metadata": {},
   "outputs": [
    {
     "name": "stdout",
     "output_type": "stream",
     "text": [
      "Spain\n"
     ]
    }
   ],
   "source": [
    "# 1. Searching for a Pattern:\n",
    "\n",
    "import re # Import the re module to work with regular expressions\n",
    "\n",
    "text = \"The rain in Spain\" # Sample text\n",
    "result = re.search(r\"\\bS\\w+\", text) # Search for words starting with \"S\"\n",
    "if result:\n",
    "    print(result.group()) # Print the matched word if found"
   ]
  },
  {
   "cell_type": "code",
   "execution_count": 2,
   "metadata": {},
   "outputs": [
    {
     "name": "stdout",
     "output_type": "stream",
     "text": [
      "['rain', 'Spain']\n"
     ]
    }
   ],
   "source": [
    "# 2. Finding All Matches:\n",
    "\n",
    "import re\n",
    "\n",
    "text = \"The rain in Spain\" # Sample text\n",
    "result = re.findall(r\"\\b\\w+ain\\b\", text) # Find all words ending with 'ain'\n",
    "print(result) # Print the list of matched words"
   ]
  },
  {
   "cell_type": "code",
   "execution_count": 3,
   "metadata": {},
   "outputs": [
    {
     "name": "stdout",
     "output_type": "stream",
     "text": [
      "The sunshine in Spain\n"
     ]
    }
   ],
   "source": [
    "# 3. Replacing Text:\n",
    "import re\n",
    "\n",
    "text = \"The rain in Spain\" # Sample text\n",
    "text = re.sub(r\"rain\", \"sunshine\", text) # Replace 'rain' with 'sunshine'\n",
    "print(text) # Print the modified text"
   ]
  },
  {
   "cell_type": "code",
   "execution_count": 4,
   "metadata": {},
   "outputs": [
    {
     "name": "stdout",
     "output_type": "stream",
     "text": [
      "[1 2 5 4]\n"
     ]
    }
   ],
   "source": [
    "# 1. Creating Arrays:\n",
    "import numpy as np # Import the NumPy library\n",
    "array = np.array([1,2,5,4]) # Create a NumPy array\n",
    "print(array) # Print the array"
   ]
  },
  {
   "cell_type": "code",
   "execution_count": 5,
   "metadata": {},
   "outputs": [
    {
     "name": "stdout",
     "output_type": "stream",
     "text": [
      "[-4 -3  0 -1]\n"
     ]
    }
   ],
   "source": [
    "# 2. Array Computations:\n",
    "\n",
    "import numpy as np # Import the NumPy library\n",
    "array = np.array([1,2,5,4]) # Create a NumPy array\n",
    "result = array - 5 # Sub 5 to each element of the array\n",
    "print(result) # Print the resulting array"
   ]
  },
  {
   "cell_type": "code",
   "execution_count": 6,
   "metadata": {},
   "outputs": [
    {
     "name": "stdout",
     "output_type": "stream",
     "text": [
      "12\n"
     ]
    }
   ],
   "source": [
    "# Aggregations\n",
    "# 1. Sum:\n",
    "\n",
    "import numpy as np # Import the NumPy library\n",
    "array = np.array([1,2,5,4]) # Create a NumPy array\n",
    "total = np.sum(array) # Compute the sum of the array elements\n",
    "print(total) # Print the sum\n"
   ]
  },
  {
   "cell_type": "code",
   "execution_count": 7,
   "metadata": {},
   "outputs": [
    {
     "name": "stdout",
     "output_type": "stream",
     "text": [
      "[-4 -3  0 -1]\n"
     ]
    }
   ],
   "source": [
    "# 2. Array Computations:\n",
    "\n",
    "import numpy as np # Import the NumPy library\n",
    "array = np.array([1,2,5,4]) # Create a NumPy array\n",
    "result = array - 5 # Sub 5 to each element of the array\n",
    "print(result) # Print the resulting array\n"
   ]
  },
  {
   "cell_type": "code",
   "execution_count": 8,
   "metadata": {},
   "outputs": [
    {
     "name": "stdout",
     "output_type": "stream",
     "text": [
      "12\n"
     ]
    }
   ],
   "source": [
    "# 1. Sum:\n",
    "\n",
    "import numpy as np # Import the NumPy library\n",
    "array = np.array([1,2,5,4]) # Create a NumPy array\n",
    "total = np.sum(array) # Compute the sum of the array elements\n",
    "print(total) # Print the sum"
   ]
  },
  {
   "cell_type": "code",
   "execution_count": 9,
   "metadata": {},
   "outputs": [
    {
     "name": "stdout",
     "output_type": "stream",
     "text": [
      "3.0\n"
     ]
    }
   ],
   "source": [
    "# 2. Mean :\n",
    "\n",
    "import numpy as np # Import the NumPy library\n",
    "array = np.array([1,2,5,4]) # Create a NumPy array\n",
    "mean_value = np.mean(array)    # Compute the mean of the array elements\n",
    "print(mean_value)            # Print the mean"
   ]
  },
  {
   "cell_type": "code",
   "execution_count": 10,
   "metadata": {},
   "outputs": [
    {
     "name": "stdout",
     "output_type": "stream",
     "text": [
      "5\n"
     ]
    }
   ],
   "source": [
    "# Max : \n",
    "\n",
    "import numpy as np # Import the NumPy library\n",
    "array = np.array([1,2,5,4]) # Create a NumPy array\n",
    "max_value = np.max(array) # Compute the maximum value in the array\n",
    "print(max_value) # Print the maximum value"
   ]
  },
  {
   "cell_type": "code",
   "execution_count": 11,
   "metadata": {},
   "outputs": [
    {
     "name": "stdout",
     "output_type": "stream",
     "text": [
      "[ 2  4 10  8]\n"
     ]
    }
   ],
   "source": [
    "# Mul :\n",
    "\n",
    "import numpy as np # Import the NumPy library\n",
    "array = np.array([1,2,5,4]) # Create a NumPy array\n",
    "result = array * 2 # Multiply each element of the array by 2\n",
    "print(result) # Print the resulting array"
   ]
  },
  {
   "cell_type": "code",
   "execution_count": 12,
   "metadata": {},
   "outputs": [
    {
     "name": "stdout",
     "output_type": "stream",
     "text": [
      "[ 1  4 25 16]\n"
     ]
    }
   ],
   "source": [
    "# 2. Square:\n",
    "\n",
    "import numpy as np # Import the NumPy library\n",
    "array = np.array([1,2,5,4]) # Create a NumPy array\n",
    "squared = array ** 2 # Square each element of the array\n",
    "print(squared) # Print the squared array"
   ]
  },
  {
   "cell_type": "code",
   "execution_count": 13,
   "metadata": {},
   "outputs": [
    {
     "name": "stdout",
     "output_type": "stream",
     "text": [
      "[False False  True  True]\n"
     ]
    }
   ],
   "source": [
    "# 1. Greater Than:\n",
    "\n",
    "import numpy as np # Import the NumPy library\n",
    "array = np.array([1,2,5,4]) # Create a NumPy array\n",
    "comparison = array > 2 # Compare each element to see if it&#39;s greater\n",
    "# than 2\n",
    "print(comparison) # Print the boolean array"
   ]
  },
  {
   "cell_type": "code",
   "execution_count": 14,
   "metadata": {},
   "outputs": [
    {
     "name": "stdout",
     "output_type": "stream",
     "text": [
      "[False False False False]\n"
     ]
    }
   ],
   "source": [
    "# 2. Equality:\n",
    "\n",
    "import numpy as np # Import the NumPy library\n",
    "array = np.array([1,2,5,4]) # Create a NumPy array\n",
    "equality = array == 3 # Check if each element is equal to 3\n",
    "print(equality) # Print the boolean array"
   ]
  },
  {
   "cell_type": "code",
   "execution_count": 15,
   "metadata": {},
   "outputs": [
    {
     "name": "stdout",
     "output_type": "stream",
     "text": [
      "[False False  True  True]\n"
     ]
    }
   ],
   "source": [
    "# 1. Creating a Mask:\n",
    "\n",
    "import numpy as np # Import the NumPy library\n",
    "array = np.array([1,2,5,4]) # Create a NumPy array\n",
    "mask = array > 2 # Create a mask for elements greater than 2\n",
    "print(mask) # Print the mask"
   ]
  },
  {
   "cell_type": "code",
   "execution_count": 16,
   "metadata": {},
   "outputs": [
    {
     "name": "stdout",
     "output_type": "stream",
     "text": [
      "[False False  True  True]\n",
      "[5 4]\n"
     ]
    }
   ],
   "source": [
    "# 2. Using a Mask:\n",
    "\n",
    "import numpy as np # Import the NumPy library\n",
    "array = np.array([1,2,5,4]) # Create a NumPy array\n",
    "mask = array > 2 # Create a mask for elements greater than 2\n",
    "print(mask) # Print the mask\n",
    "filtered = array[mask] # Use the mask to filter the array\n",
    "print(filtered) # Print the filtered array"
   ]
  },
  {
   "cell_type": "code",
   "execution_count": 17,
   "metadata": {},
   "outputs": [
    {
     "name": "stdout",
     "output_type": "stream",
     "text": [
      "[ True False  True  True]\n",
      "[ 1 -1  5  4]\n"
     ]
    }
   ],
   "source": [
    "# 1. Boolean Array Creation:\n",
    "\n",
    "import numpy as np # Import the NumPy library\n",
    "\n",
    "array = np.array([1, 2, 5, 4]) # Create a NumPy array\n",
    "\n",
    "bool_array = np.array([True, False, True, True]) # Create a boolean array with the same length\n",
    "print(bool_array) # Print the boolean array\n",
    "\n",
    "# 2. Using Boolean Arrays:\n",
    "result = np.where(bool_array, array, -1) # Replace True values with array elements and False values with -1\n",
    "print(result) # Print the resulting array"
   ]
  },
  {
   "cell_type": "code",
   "execution_count": 18,
   "metadata": {},
   "outputs": [
    {
     "name": "stdout",
     "output_type": "stream",
     "text": [
      "['support@example.com', 'sales@example.com']\n"
     ]
    }
   ],
   "source": [
    "# 1. Find all email addresses in a text:\n",
    "\n",
    "\n",
    "import re # Import the re module\n",
    "text = \"Please contact us at support@example.com or sales@example.com\"\n",
    "# Sample text\n",
    "emails = re.findall(r'\\b[A-Za-z0-9._%+-]+@[A-Za-z0-9.-]+\\.[A-Z|a-z]{2,}\\b', text) # Find all email addresses\n",
    "print(emails) # Print the list of email addresses"
   ]
  },
  {
   "cell_type": "code",
   "execution_count": 19,
   "metadata": {},
   "outputs": [
    {
     "name": "stdout",
     "output_type": "stream",
     "text": [
      "Number format accepted: 123-456-7890\n",
      "Invalid phone number\n"
     ]
    }
   ],
   "source": [
    "# 2. Validate a phone number (format: XXX-XXX-XXXX):\n",
    "\n",
    "\n",
    "import re # Import the re module\n",
    "# phone_number = \"123-456-7890\" # Sample phone number\n",
    "\n",
    "print(\"Number format accepted: 123-456-7890\")\n",
    "phone_number = input(\"Enter the phone No. : \") # Take input from the user\n",
    "\n",
    "\n",
    "if re.match(r'^\\d{3}-\\d{3}-\\d{4}$', phone_number): # Check if the phone number matches the pattern\n",
    "    print(\"Valid phone number\") # Print if valid\n",
    "else:\n",
    "    print(\"Invalid phone number\") # Print if invalid"
   ]
  },
  {
   "cell_type": "code",
   "execution_count": 20,
   "metadata": {},
   "outputs": [
    {
     "name": "stdout",
     "output_type": "stream",
     "text": [
      "Number format accepted: 123-456-7890\n",
      "Invalid phone number\n"
     ]
    }
   ],
   "source": [
    "# Phone number checking different formate\n",
    "\n",
    "import re\n",
    "\n",
    "def validate_phone_number():\n",
    "    print(\"Number format accepted: 123-456-7890\")\n",
    "    phone_number = input(\"Enter the phone number: \")\n",
    "\n",
    "    pattern = r'^\\d{3}-\\d{3}-\\d{4}$'\n",
    "    if re.match(pattern, phone_number):\n",
    "        print(\"Valid phone number\")\n",
    "    else:\n",
    "        print(\"Invalid phone number\")\n",
    "\n",
    "validate_phone_number()"
   ]
  },
  {
   "cell_type": "code",
   "execution_count": 21,
   "metadata": {},
   "outputs": [
    {
     "name": "stdout",
     "output_type": "stream",
     "text": [
      "Original matrix:\n",
      " [[1 2 3]\n",
      " [4 5 6]\n",
      " [7 8 9]]\n",
      "Matrix after adding 10:\n",
      " [[11 12 13]\n",
      " [14 15 16]\n",
      " [17 18 19]]\n",
      "Matrix after multiplying by 2:\n",
      " [[ 2  4  6]\n",
      " [ 8 10 12]\n",
      " [14 16 18]]\n"
     ]
    }
   ],
   "source": [
    "# 1. Create a 3x3 matrix and perform basic operations:\n",
    "\n",
    "import numpy as np # Import the NumPy library\n",
    "matrix = np.array([[1, 2, 3], [4, 5, 6], [7, 8, 9]]) # Create a 3x3 matrix\n",
    "print(\"Original matrix:\\n\", matrix) # Print the original matrix\n",
    "\n",
    "# Element-wise addition\n",
    "result_add = matrix + 10 # Add 10 to each element\n",
    "print(\"Matrix after adding 10:\\n\", result_add) # Print the resulting matrix\n",
    "\n",
    "# Element-wise multiplication\n",
    "result_mul = matrix * 2 # Multiply each element by 2\n",
    "print(\"Matrix after multiplying by 2:\\n\", result_mul) # Print the resulting matrix"
   ]
  },
  {
   "cell_type": "code",
   "execution_count": 22,
   "metadata": {},
   "outputs": [
    {
     "name": "stdout",
     "output_type": "stream",
     "text": [
      "Original array: [1 2 3 4 5]\n",
      "Sum of array elements: 15\n",
      "Mean of array elements: 3.0\n",
      "Maximum value in array: 5\n"
     ]
    }
   ],
   "source": [
    "# 2. Compute sum, mean, and maximum of an array:\n",
    "\n",
    "import numpy as np # Import the NumPy library\n",
    "\n",
    "array = np.array([1, 2, 3, 4, 5]) # Create a NumPy array\n",
    "print(\"Original array:\", array) # Print the original array Compute sum\n",
    "\n",
    "total = np.sum(array) # Compute the sum of the array elements\n",
    "print(\"Sum of array elements:\", total) # Print the sum Compute mean\n",
    "\n",
    "mean_value = np.mean(array) # Compute the mean of the array elements\n",
    "print(\"Mean of array elements:\", mean_value) # Print the mean Compute maximum\n",
    "\n",
    "max_value = np.max(array) # Compute the maximum value in the array\n",
    "print(\"Maximum value in array:\", max_value) # Print the maximum value"
   ]
  },
  {
   "cell_type": "code",
   "execution_count": 23,
   "metadata": {},
   "outputs": [
    {
     "name": "stdout",
     "output_type": "stream",
     "text": [
      "Original array: [10 15 20 25 30]\n",
      "Mask for elements > 20: [False False False  True  True]\n",
      "Filtered array: [25 30]\n"
     ]
    }
   ],
   "source": [
    "# 1. Filter elements greater than a given value:\n",
    "\n",
    "import numpy as np # Import the NumPy library\n",
    "\n",
    "array = np.array([10, 15, 20, 25, 30]) # Create a NumPy array\n",
    "print(\"Original array:\", array) # Print the original array\n",
    "\n",
    "mask = array > 20 # Create a mask for elements greater than 20\n",
    "print(\"Mask for elements > 20:\", mask) # Print the mask\n",
    "\n",
    "filtered = array[mask] # Use the mask to filter the array\n",
    "print(\"Filtered array:\", filtered) # Print the filtered array"
   ]
  },
  {
   "cell_type": "code",
   "execution_count": 24,
   "metadata": {},
   "outputs": [
    {
     "name": "stdout",
     "output_type": "stream",
     "text": [
      "Original array: [1 2 3 4 5]\n",
      "Boolean array for even elements: [False  True False  True False]\n",
      "Resulting array: [-1  2 -1  4 -1]\n"
     ]
    }
   ],
   "source": [
    "# 2. Replace elements based on a condition:\n",
    "\n",
    "import numpy as np # Import the NumPy library\n",
    "\n",
    "array = np.array([1, 2, 3, 4, 5]) # Create a NumPy array\n",
    "print(\"Original array:\", array) # Print the original array\n",
    "\n",
    "bool_array = array % 2 == 0 # Create a boolean array for even elements\n",
    "print(\"Boolean array for even elements:\", bool_array) # Print the boolean array\n",
    "\n",
    "result = np.where(bool_array, array, -1) # Replace even elements with themselves and odd elements with -1\n",
    "print(\"Resulting array:\", result) # Print the resulting array"
   ]
  },
  {
   "cell_type": "code",
   "execution_count": 25,
   "metadata": {},
   "outputs": [
    {
     "name": "stdout",
     "output_type": "stream",
     "text": [
      "Boolean array: [ True False  True  True False]\n",
      "Number of True values: 3\n"
     ]
    }
   ],
   "source": [
    "# 1. Count the number of True values in a boolean array:\n",
    "\n",
    "import numpy as np # Import the NumPy library\n",
    "\n",
    "bool_array = np.array([True, False, True, True, False]) # Create a boolean array\n",
    "\n",
    "print(\"Boolean array:\", bool_array) # Print the boolean array\n",
    "true_count = np.sum(bool_array) # Count the number of True values\n",
    "\n",
    "print(\"Number of True values:\", true_count) # Print the count of True values"
   ]
  },
  {
   "cell_type": "code",
   "execution_count": 26,
   "metadata": {},
   "outputs": [
    {
     "name": "stdout",
     "output_type": "stream",
     "text": [
      "Boolean array 1: [ True False  True]\n",
      "Boolean array 2: [False  True  True]\n",
      "Logical AND result: [False False  True]\n",
      "Logical OR result: [ True  True  True]\n"
     ]
    }
   ],
   "source": [
    "# 2. Logical operations on boolean arrays:\n",
    "\n",
    "import numpy as np # Import the NumPy library\n",
    "bool_array1 = np.array([True, False, True]) # Create the first boolean array\n",
    "bool_array2 = np.array([False, True, True]) # Create the second boolean array\n",
    "\n",
    "print(\"Boolean array 1:\", bool_array1) # Print the first boolean array\n",
    "print(\"Boolean array 2:\", bool_array2) # Print the second boolean array\n",
    "\n",
    "# Logical AND operation\n",
    "and_result = np.logical_and(bool_array1, bool_array2) # Perform  the logical AND operation\n",
    "print(\"Logical AND result:\", and_result) # Print the result of logical  AND operation\n",
    "\n",
    "# Logical OR operation\n",
    "or_result = np.logical_or(bool_array1, bool_array2) # Perform logical OR operation\n",
    "print(\"Logical OR result:\", or_result) # Print the result of logical OR"
   ]
  }
 ],
 "metadata": {
  "kernelspec": {
   "display_name": "Python 3",
   "language": "python",
   "name": "python3"
  },
  "language_info": {
   "codemirror_mode": {
    "name": "ipython",
    "version": 3
   },
   "file_extension": ".py",
   "mimetype": "text/x-python",
   "name": "python",
   "nbconvert_exporter": "python",
   "pygments_lexer": "ipython3",
   "version": "3.11.3"
  }
 },
 "nbformat": 4,
 "nbformat_minor": 2
}
