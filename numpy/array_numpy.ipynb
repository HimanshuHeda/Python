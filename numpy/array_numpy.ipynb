{
 "cells": [
  {
   "cell_type": "code",
   "execution_count": 1,
   "metadata": {},
   "outputs": [
    {
     "name": "stdout",
     "output_type": "stream",
     "text": [
      "Original Array:\n",
      "[1 2 3 4 5]\n",
      "Accessing Elements:\n",
      "First element: 1\n",
      "Last element: 5\n",
      "Slicing the Array:\n",
      "Elements from index 1 to 3: [2 3 4]\n"
     ]
    }
   ],
   "source": [
    "# Program 1: Creating and Manipulating Arrays\n",
    "\n",
    "import numpy as np\n",
    "\n",
    "# Creating a NumPy array from a list\n",
    "arr = np.array([1, 2, 3, 4, 5])\n",
    "print(\"Original Array:\")\n",
    "print(arr)\n",
    "\n",
    "# Accessing elements of the array\n",
    "print(\"Accessing Elements:\")\n",
    "print(\"First element:\", arr[0])\n",
    "print(\"Last element:\", arr[-1])\n",
    "\n",
    "# Slicing the array\n",
    "print(\"Slicing the Array:\")\n",
    "print(\"Elements from index 1 to 3:\", arr[1:4])"
   ]
  },
  {
   "cell_type": "code",
   "execution_count": 2,
   "metadata": {},
   "outputs": [
    {
     "name": "stdout",
     "output_type": "stream",
     "text": [
      "Array Addition:\n",
      "[5 7 9]\n",
      "Array Multiplication:\n",
      "[ 4 10 18]\n",
      "Dot Product:\n",
      "32\n"
     ]
    }
   ],
   "source": [
    "# Program 2: Basic Operations on Arrays\n",
    "\n",
    "import numpy as np\n",
    "\n",
    "# Creating arrays\n",
    "arr1 = np.array([1, 2, 3])\n",
    "arr2 = np.array([4, 5, 6])\n",
    "\n",
    "# Addition of arrays\n",
    "addition = arr1 + arr2\n",
    "print(\"Array Addition:\")\n",
    "print(addition)\n",
    "\n",
    "# Element-wise multiplication\n",
    "multiplication = arr1 * arr2\n",
    "print(\"Array Multiplication:\")\n",
    "print(multiplication)\n",
    "\n",
    "# Dot product\n",
    "dot_product = np.dot(arr1, arr2)\n",
    "print(\"Dot Product:\")\n",
    "print(dot_product)"
   ]
  },
  {
   "cell_type": "code",
   "execution_count": 3,
   "metadata": {},
   "outputs": [
    {
     "name": "stdout",
     "output_type": "stream",
     "text": [
      "First Matrix is :\n",
      "[[1 2]\n",
      " [3 4]]\n",
      "2nd Matrix is :\n",
      "[[5 6]\n",
      " [7 8]]\n",
      "Matrix Multiplication:\n",
      "[[19 22]\n",
      " [43 50]]\n",
      "Transpose of Matrix1:\n",
      "[[1 3]\n",
      " [2 4]]\n",
      "Transpose of Matrix2:\n",
      "[[5 7]\n",
      " [6 8]]\n"
     ]
    }
   ],
   "source": [
    "# Program 3: Matrix Operations\n",
    "\n",
    "import numpy as np\n",
    "\n",
    "# Creating matrices\n",
    "matrix1 = np.array([[1, 2], [3, 4]])\n",
    "matrix2 = np.array([[5, 6], [7, 8]])\n",
    "\n",
    "# Matrix are\n",
    "print(\"First Matrix is :\")\n",
    "print(matrix1)\n",
    "print(\"2nd Matrix is :\")\n",
    "print(matrix2)\n",
    "\n",
    "# Matrix multiplication\n",
    "matrix_product = np.matmul(matrix1, matrix2)\n",
    "print(\"Matrix Multiplication:\")\n",
    "print(matrix_product)\n",
    "\n",
    "# Transpose of a matrix\n",
    "transpose_matrix1 = np.transpose(matrix1)\n",
    "print(\"Transpose of Matrix1:\")\n",
    "print(transpose_matrix1)\n",
    "\n",
    "transpose_matrix2 = np.transpose(matrix2)\n",
    "print(\"Transpose of Matrix2:\")\n",
    "print(transpose_matrix2)"
   ]
  },
  {
   "cell_type": "code",
   "execution_count": 4,
   "metadata": {},
   "outputs": [
    {
     "name": "stdout",
     "output_type": "stream",
     "text": [
      "The sum of the list is: 150\n"
     ]
    }
   ],
   "source": [
    "# 1. Sum of a List\n",
    "\n",
    "# This program calculates the sum of all elements in a list.\n",
    "\n",
    "# Program to calculate the sum of all elements in a list\n",
    "\n",
    "# Define the list of numbers\n",
    "numbers = [10, 20, 30, 40, 50]\n",
    "\n",
    "# Calculate the sum using the built-in sum() function\n",
    "total_sum = sum(numbers)\n",
    "\n",
    "# Print the result\n",
    "print(f\"The sum of the list is: {total_sum}\")\n",
    "\n",
    "# Output: The sum of the list is: 150"
   ]
  },
  {
   "cell_type": "code",
   "execution_count": 5,
   "metadata": {},
   "outputs": [
    {
     "name": "stdout",
     "output_type": "stream",
     "text": [
      "The average of the list is: \n",
      "30.0\n"
     ]
    }
   ],
   "source": [
    "# 2. Average of a List\n",
    "# This program calculates the average of all elements in a list.\n",
    "\n",
    "# Program to calculate the average of all elements in a list\n",
    "\n",
    "# Define the list of numbers\n",
    "numbers = [10, 20, 30, 40, 50]\n",
    "\n",
    "# Calculate the sum of the list\n",
    "total_sum = sum(numbers)\n",
    "\n",
    "# Calculate the number of elements in the list\n",
    "count = len(numbers)\n",
    "\n",
    "# Calculate the average\n",
    "average = total_sum / count\n",
    "\n",
    "# Print the result\n",
    "print(f\"The average of the list is: \\n{average}\")\n",
    "\n",
    "# Output: The average of the list is: 30.0"
   ]
  },
  {
   "cell_type": "code",
   "execution_count": 6,
   "metadata": {},
   "outputs": [
    {
     "name": "stdout",
     "output_type": "stream",
     "text": [
      "The maximum value in the list is: 50\n",
      "The minimum value in the list is: 10\n"
     ]
    }
   ],
   "source": [
    "# 3. Maximum and Minimum of a List\n",
    "# This program finds the maximum and minimum values in a list.\n",
    "\n",
    "# Program to find the maximum and minimum values in a list\n",
    "\n",
    "# Define the list of numbers\n",
    "numbers = [10, 20, 30, 40, 50]\n",
    "\n",
    "# Find the maximum value using the built-in max() function\n",
    "max_value = max(numbers)\n",
    "\n",
    "# Find the minimum value using the built-in min() function\n",
    "min_value = min(numbers)\n",
    "\n",
    "# Print the results\n",
    "print(f\"The maximum value in the list is: {max_value}\")\n",
    "print(f\"The minimum value in the list is: {min_value}\")\n",
    "\n",
    "\n",
    "# Output:\n",
    "# The maximum value in the list is: 50\n",
    "# The minimum value in the list is: 10"
   ]
  },
  {
   "cell_type": "code",
   "execution_count": 7,
   "metadata": {},
   "outputs": [
    {
     "name": "stdout",
     "output_type": "stream",
     "text": [
      "The number of elements greater than 25 is: 3\n"
     ]
    }
   ],
   "source": [
    "# 4. Count of Elements Greater Than a Threshold\n",
    "# This program counts the number of elements in a list that are greater than a specified threshold.\n",
    "\n",
    "# Program to count the number of elements greater than a threshold\n",
    "\n",
    "# Define the list of numbers\n",
    "numbers = [10, 20, 30, 40, 50]\n",
    "\n",
    "# Define the threshold\n",
    "threshold = 25\n",
    "\n",
    "# Use list comprehension to filter elements greater than the threshold\n",
    "greater_than_threshold = [num for num in numbers if num > threshold]\n",
    "\n",
    "# Count the elements\n",
    "count = len(greater_than_threshold)\n",
    "\n",
    "# Print the result\n",
    "print(f\"The number of elements greater than {threshold} is: {count}\")\n",
    "\n",
    "\n",
    "# Output: The number of elements greater than 25 is: 3"
   ]
  },
  {
   "cell_type": "code",
   "execution_count": 8,
   "metadata": {},
   "outputs": [
    {
     "name": "stdout",
     "output_type": "stream",
     "text": [
      "The product of the list is: 120\n"
     ]
    }
   ],
   "source": [
    "# 5. Product of a List\n",
    "# This program calculates the product of all elements in a list.\n",
    "\n",
    "# Program to calculate the product of all elements in a list\n",
    "\n",
    "# Import the reduce function from the functools module\n",
    "from functools import reduce\n",
    "\n",
    "# Define the list of numbers\n",
    "numbers = [1, 2, 3, 4, 5]\n",
    "\n",
    "# Calculate the product using the reduce() function and a lambda function\n",
    "product = reduce(lambda x, y: x * y, numbers)\n",
    "\n",
    "# Print the result\n",
    "print(f\"The product of the list is: {product}\")\n",
    "\n",
    "\n",
    "# Output: The product of the list is: 120"
   ]
  },
  {
   "cell_type": "code",
   "execution_count": 9,
   "metadata": {},
   "outputs": [
    {
     "name": "stdout",
     "output_type": "stream",
     "text": [
      "Sum of all elements: 15\n"
     ]
    }
   ],
   "source": [
    "# 1. Sum of All Elements in an Array\n",
    "\n",
    "import numpy as np\n",
    "\n",
    "# Create a NumPy array\n",
    "array = np.array([1, 2, 3, 4, 5])\n",
    "\n",
    "# Calculate the sum of all elements\n",
    "sum_of_elements = np.sum(array)\n",
    "\n",
    "# Print the result\n",
    "print(f\"Sum of all elements: {sum_of_elements}\")\n",
    "\n",
    "# OUTPUT :\n",
    "# Sum of all elements: 15"
   ]
  },
  {
   "cell_type": "code",
   "execution_count": 10,
   "metadata": {},
   "outputs": [
    {
     "name": "stdout",
     "output_type": "stream",
     "text": [
      "Mean of the array: 3.0\n"
     ]
    }
   ],
   "source": [
    "# 2. Mean of an Array\n",
    "\n",
    "import numpy as np\n",
    "\n",
    "# Create a NumPy array\n",
    "array = np.array([1, 2, 3, 4, 5])\n",
    "\n",
    "# Calculate the mean of the array\n",
    "mean_of_array = np.mean(array)\n",
    "\n",
    "# Print the result\n",
    "print(f\"Mean of the array: {mean_of_array}\")\n",
    "\n",
    "# OUTPUT :\n",
    "# Mean of the array: 3.0"
   ]
  },
  {
   "cell_type": "code",
   "execution_count": 11,
   "metadata": {},
   "outputs": [
    {
     "name": "stdout",
     "output_type": "stream",
     "text": [
      "Standard Deviation of the array: 1.4142135623730951\n"
     ]
    }
   ],
   "source": [
    "# 3. Standard Deviation of an Array\n",
    "\n",
    "import numpy as np\n",
    "\n",
    "# Create a NumPy array\n",
    "array = np.array([1, 2, 3, 4, 5])\n",
    "\n",
    "# Calculate the standard deviation of the array\n",
    "std_deviation = np.std(array)\n",
    "\n",
    "# Print the result\n",
    "print(f\"Standard Deviation of the array: {std_deviation}\")\n",
    "\n",
    "#  OUTPUT :\n",
    "# Standard Deviation of the array: 1.4142135623730951"
   ]
  },
  {
   "cell_type": "code",
   "execution_count": 12,
   "metadata": {},
   "outputs": [
    {
     "name": "stdout",
     "output_type": "stream",
     "text": [
      "Sum of arrays: [11 22 33 44 55]\n"
     ]
    }
   ],
   "source": [
    "# 4. Adding Two Arrays Element-wise\n",
    "\n",
    "import numpy as np\n",
    "\n",
    "# Create two NumPy arrays\n",
    "array1 = np.array([1, 2, 3, 4, 5])\n",
    "array2 = np.array([10, 20, 30, 40, 50])\n",
    "\n",
    "# Add the two arrays element-wise\n",
    "sum_array = np.add(array1, array2)\n",
    "\n",
    "# Print the result\n",
    "print(f\"Sum of arrays: {sum_array}\")\n",
    "\n",
    "# OUTPUT :\n",
    "# Sum of arrays: [11 22 33 44 55]"
   ]
  },
  {
   "cell_type": "code",
   "execution_count": 13,
   "metadata": {},
   "outputs": [
    {
     "name": "stdout",
     "output_type": "stream",
     "text": [
      "Product of arrays: [ 10  40  90 160 250]\n"
     ]
    }
   ],
   "source": [
    "# 5. Multiplying Two Arrays Element-wise\n",
    "\n",
    "import numpy as np\n",
    "\n",
    "# Create two NumPy arrays\n",
    "array1 = np.array([1, 2, 3, 4, 5])\n",
    "array2 = np.array([10, 20, 30, 40, 50])\n",
    "\n",
    "# Multiply the two arrays element-wise\n",
    "product_array = np.multiply(array1, array2)\n",
    "\n",
    "# Print the result\n",
    "print(f\"Product of arrays: {product_array}\")\n",
    "\n",
    "# OUTPUT\n",
    "# Product of arrays: [ 10  40  90 160 250]"
   ]
  },
  {
   "cell_type": "code",
   "execution_count": 14,
   "metadata": {},
   "outputs": [
    {
     "name": "stdout",
     "output_type": "stream",
     "text": [
      "Dot product of arrays: 32\n"
     ]
    }
   ],
   "source": [
    "# 6. Dot Product of Two Arrays\n",
    "\n",
    "import numpy as np\n",
    "\n",
    "# Create two NumPy arrays\n",
    "array1 = np.array([1, 2, 3])\n",
    "array2 = np.array([4, 5, 6])\n",
    "\n",
    "# Calculate the dot product of the two arrays\n",
    "dot_product = np.dot(array1, array2)\n",
    "\n",
    "# Print the result\n",
    "print(f\"Dot product of arrays: {dot_product}\")\n",
    "\n",
    "# OUTPUT :\n",
    "# Dot product of arrays: 32"
   ]
  },
  {
   "cell_type": "code",
   "execution_count": 15,
   "metadata": {},
   "outputs": [
    {
     "name": "stdout",
     "output_type": "stream",
     "text": [
      "Original matrix:\n",
      "[[1 2 3]\n",
      " [4 5 6]]\n",
      "Transposed matrix:\n",
      "[[1 4]\n",
      " [2 5]\n",
      " [3 6]]\n"
     ]
    }
   ],
   "source": [
    "# 7. Transpose of a Matrix\n",
    "\n",
    "import numpy as np\n",
    "\n",
    "# Create a 2x3 NumPy matrix (2D array)\n",
    "matrix = np.array([[1, 2, 3], [4, 5, 6]])\n",
    "\n",
    "# Transpose the matrix\n",
    "transpose_matrix = np.transpose(matrix)\n",
    "\n",
    "# Print the result\n",
    "print(\"Original matrix:\")\n",
    "print(matrix)\n",
    "print(\"Transposed matrix:\")\n",
    "print(transpose_matrix)\n",
    "\n",
    "# OUTPUT : \n",
    "# Original matrix:\n",
    "# [[1 2 3]\n",
    "#  [4 5 6]]\n",
    "# Transposed matrix:\n",
    "# [[1 4]\n",
    "#  [2 5]\n",
    "#  [3 6]]"
   ]
  },
  {
   "cell_type": "code",
   "execution_count": 16,
   "metadata": {},
   "outputs": [
    {
     "name": "stdout",
     "output_type": "stream",
     "text": [
      "Original matrix:\n",
      "[[1 2]\n",
      " [3 4]]\n",
      "Inverse matrix:\n",
      "[[-2.   1. ]\n",
      " [ 1.5 -0.5]]\n"
     ]
    }
   ],
   "source": [
    "# 8. Inverse of a Matrix\n",
    "\n",
    "import numpy as np\n",
    "\n",
    "# Create a 2x2 NumPy matrix (2D array)\n",
    "matrix = np.array([[1, 2], [3, 4]])\n",
    "\n",
    "# Calculate the inverse of the matrix\n",
    "inverse_matrix = np.linalg.inv(matrix)\n",
    "\n",
    "# Print the result\n",
    "print(\"Original matrix:\")\n",
    "print(matrix)\n",
    "print(\"Inverse matrix:\")\n",
    "print(inverse_matrix)\n",
    "\n",
    "# OUTPUT\n",
    "# Original matrix:\n",
    "# [[1 2]\n",
    "#  [3 4]]\n",
    "# Inverse matrix:\n",
    "# [[-2.   1. ]\n",
    "#  [ 1.5 -0.5]]"
   ]
  },
  {
   "cell_type": "code",
   "execution_count": 17,
   "metadata": {},
   "outputs": [
    {
     "name": "stdout",
     "output_type": "stream",
     "text": [
      "Original matrix:\n",
      "[[1 2]\n",
      " [3 4]]\n",
      "Determinant of the matrix: -2.0000000000000004\n"
     ]
    }
   ],
   "source": [
    "# 9. Determinant of a Matrix\n",
    "\n",
    "import numpy as np\n",
    "\n",
    "# Create a 2x2 NumPy matrix (2D array)\n",
    "matrix = np.array([[1, 2], [3, 4]])\n",
    "\n",
    "# Calculate the determinant of the matrix\n",
    "determinant = np.linalg.det(matrix)\n",
    "\n",
    "# Print the result\n",
    "print(\"Original matrix:\")\n",
    "print(matrix)\n",
    "print(f\"Determinant of the matrix: {determinant}\")\n",
    "\n",
    "# OUTPUT :\n",
    "# Original matrix:\n",
    "# [[1 2]\n",
    "#  [3 4]]\n",
    "# Determinant of the matrix: -2.0000000000000004"
   ]
  },
  {
   "cell_type": "code",
   "execution_count": 18,
   "metadata": {},
   "outputs": [
    {
     "name": "stdout",
     "output_type": "stream",
     "text": [
      "Element-wise comparison:\n",
      "[False False  True False False]\n"
     ]
    }
   ],
   "source": [
    "# 10. Element-wise Comparison of Two Arrays\n",
    "\n",
    "import numpy as np\n",
    "\n",
    "# Create two NumPy arrays\n",
    "array1 = np.array([1, 2, 3, 4, 5])\n",
    "array2 = np.array([5, 4, 3, 2, 1])\n",
    "\n",
    "# Compare the two arrays element-wise\n",
    "comparison = np.equal(array1, array2)\n",
    "\n",
    "# Print the result\n",
    "print(\"Element-wise comparison:\")\n",
    "print(comparison)\n",
    "\n",
    "# OUTPUT \n",
    "# Element-wise comparison:\n",
    "# [False False  True False False]"
   ]
  },
  {
   "cell_type": "code",
   "execution_count": 19,
   "metadata": {},
   "outputs": [
    {
     "name": "stdout",
     "output_type": "stream",
     "text": [
      "Array 1: [1 2 3 4 5]\n",
      "Array 2: [1 2 3 4 5]\n",
      "Are both arrays equal? True\n"
     ]
    }
   ],
   "source": [
    "# 1. Compare Two Arrays for Equality\n",
    "\n",
    "import numpy as np\n",
    "\n",
    "# Creating two arrays\n",
    "array1 = np.array([1, 2, 3, 4, 5])\n",
    "array2 = np.array([1, 2, 3, 4, 5])\n",
    "\n",
    "# Check if both arrays are equal\n",
    "are_equal = np.array_equal(array1, array2)\n",
    "print(\"Array 1:\", array1)\n",
    "print(\"Array 2:\", array2)\n",
    "print(\"Are both arrays equal?\", are_equal)\n",
    "\n",
    "# OUTPUT :\n",
    "# Array 1: [1 2 3 4 5]\n",
    "# Array 2: [1 2 3 4 5]\n",
    "# Are both arrays equal? True"
   ]
  },
  {
   "cell_type": "code",
   "execution_count": 20,
   "metadata": {},
   "outputs": [
    {
     "name": "stdout",
     "output_type": "stream",
     "text": [
      "Array 1: [1 2 3 4 5]\n",
      "Array 2: [1 2 0 4 5]\n",
      "Element-wise comparison: [ True  True False  True  True]\n"
     ]
    }
   ],
   "source": [
    "# 2. Element-wise Comparison of Two Arrays\n",
    "\n",
    "import numpy as np\n",
    "\n",
    "# Creating two arrays\n",
    "array1 = np.array([1, 2, 3, 4, 5])\n",
    "array2 = np.array([1, 2, 0, 4, 5])\n",
    "\n",
    "# Element-wise comparison\n",
    "comparison = np.equal(array1, array2)\n",
    "print(\"Array 1:\", array1)\n",
    "print(\"Array 2:\", array2)\n",
    "print(\"Element-wise comparison:\", comparison)\n",
    "\n",
    "# # OUTPUT :\n",
    "# Array 1: [1 2 3 4 5]\n",
    "# Array 2: [1 2 0 4 5]\n",
    "# Element-wise comparison: [ True  True False  True  True]"
   ]
  },
  {
   "cell_type": "code",
   "execution_count": 21,
   "metadata": {},
   "outputs": [
    {
     "name": "stdout",
     "output_type": "stream",
     "text": [
      "Array 1: [1 2 3 4 5]\n",
      "Array 2: [4 5 6 7 8]\n",
      "Common elements: [4 5]\n"
     ]
    }
   ],
   "source": [
    "# 3. Find Common Elements Between Two Arrays\n",
    "\n",
    "import numpy as np\n",
    "\n",
    "# Creating two arrays\n",
    "array1 = np.array([1, 2, 3, 4, 5])\n",
    "array2 = np.array([4, 5, 6, 7, 8])\n",
    "\n",
    "# Finding common elements\n",
    "common_elements = np.intersect1d(array1, array2)\n",
    "print(\"Array 1:\", array1)\n",
    "print(\"Array 2:\", array2)\n",
    "print(\"Common elements:\", common_elements)\n",
    "\n",
    "# OUTPUT : \n",
    "# Array 1: [1 2 3 4 5]\n",
    "# Array 2: [4 5 6 7 8]\n",
    "# Common elements: [4 5]"
   ]
  },
  {
   "cell_type": "code",
   "execution_count": 22,
   "metadata": {},
   "outputs": [
    {
     "name": "stdout",
     "output_type": "stream",
     "text": [
      "Array 1: [1 2 3 4 5]\n",
      "Array 2: [4 5 6 7 8]\n",
      "Elements in array1 not in array2: [1 2 3]\n",
      "Elements in array2 not in array1: [6 7 8]\n"
     ]
    }
   ],
   "source": [
    "# 4. Compare Two Arrays and Find Differences\n",
    "\n",
    "import numpy as np\n",
    "\n",
    "# Creating two arrays\n",
    "array1 = np.array([1, 2, 3, 4, 5])\n",
    "array2 = np.array([4, 5, 6, 7, 8])\n",
    "\n",
    "# Finding elements in array1 that are not in array2\n",
    "diff1 = np.setdiff1d(array1, array2)\n",
    "\n",
    "# Finding elements in array2 that are not in array1\n",
    "diff2 = np.setdiff1d(array2, array1)\n",
    "print(\"Array 1:\", array1)\n",
    "print(\"Array 2:\", array2)\n",
    "print(\"Elements in array1 not in array2:\", diff1)\n",
    "print(\"Elements in array2 not in array1:\", diff2)\n",
    "\n",
    "# OUTPUT\n",
    "# Array 1: [1 2 3 4 5]\n",
    "# Array 2: [4 5 6 7 8]\n",
    "# Elements in array1 not in array2: [1 2 3]   \n",
    "# Elements in array2 not in array1: [6 7 8] "
   ]
  },
  {
   "cell_type": "code",
   "execution_count": 23,
   "metadata": {},
   "outputs": [
    {
     "name": "stdout",
     "output_type": "stream",
     "text": [
      "Array 1: [1 2 3 4 5]\n",
      "Array 2: [4 5 6 7 8]\n",
      "Unique elements: [1 2 3 6 7 8]\n"
     ]
    }
   ],
   "source": [
    "# 5. Compare Two Arrays and Find Unique Elements\n",
    "\n",
    "import numpy as np\n",
    "\n",
    "# Creating two arrays\n",
    "array1 = np.array([1, 2, 3, 4, 5])\n",
    "array2 = np.array([4, 5, 6, 7, 8])\n",
    "\n",
    "# Finding unique elements in both arrays\n",
    "unique_elements = np.setxor1d(array1, array2)\n",
    "print(\"Array 1:\", array1)\n",
    "print(\"Array 2:\", array2)\n",
    "print(\"Unique elements:\", unique_elements)\n",
    "\n",
    "# OUTPUT : \n",
    "# Array 1: [1 2 3 4 5]\n",
    "# Array 2: [4 5 6 7 8]\n",
    "# Unique elements: [1 2 3 6 7 8]"
   ]
  }
 ],
 "metadata": {
  "kernelspec": {
   "display_name": "Python 3",
   "language": "python",
   "name": "python3"
  },
  "language_info": {
   "codemirror_mode": {
    "name": "ipython",
    "version": 3
   },
   "file_extension": ".py",
   "mimetype": "text/x-python",
   "name": "python",
   "nbconvert_exporter": "python",
   "pygments_lexer": "ipython3",
   "version": "3.11.3"
  }
 },
 "nbformat": 4,
 "nbformat_minor": 2
}
