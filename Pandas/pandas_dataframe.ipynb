{
 "cells": [
  {
   "cell_type": "code",
   "execution_count": null,
   "metadata": {},
   "outputs": [],
   "source": [
    "import pandas as pd\n",
    "\n",
    "# Create a DataFrame\n",
    "df = pd.DataFrame({'A': [1, 2, 3], 'B': [4, 5, 6]})\n",
    "# Select data using label-based indexing \n",
    "print(df.loc[0, 'A'])       # Output :  1\n",
    "print(df.iloc[0, 1])        # Output :  4\n",
    "\n",
    "#  df is a user defined"
   ]
  },
  {
   "cell_type": "code",
   "execution_count": null,
   "metadata": {},
   "outputs": [],
   "source": [
    "import pandas as pd\n",
    "\n",
    "std_data = [\n",
    "    (1, 'Himanshu', 20, 'Male', 'Rajasthan'),\n",
    "    (2, 'Anugrah', 21, 'Male', 'Rajasthan'),\n",
    "    (3, 'Aaron', 22, 'Male', 'Delhi'),\n",
    "    (4, 'Vatan', 32, 'Male', 'Delhi'),\n",
    "    (5, 'Saksham', 25, 'Male', 'Delhi')\n",
    "]\n",
    "df = pd.DataFrame(std_data, columns=['stud_id', 'name', 'age', 'gender','address'])\n",
    "print(df)\n",
    "\n"
   ]
  },
  {
   "cell_type": "code",
   "execution_count": null,
   "metadata": {},
   "outputs": [],
   "source": [
    "import pandas as pd\n",
    "\n",
    "df = pd.read_csv(\"D:/Christ_Python/Pandas/Accumulation-accounts-2008-2022-provisional.csv\")\n",
    "print(df)\n"
   ]
  },
  {
   "cell_type": "code",
   "execution_count": null,
   "metadata": {},
   "outputs": [],
   "source": [
    "import pandas as pd\n",
    "\n",
    "# Reading a CSV file into a DataFrame\n",
    "df = pd.read_csv(\"D:/Christ_Python/Pandas/data.csv\")\n",
    "\n",
    "# 1. Print the entire DataFrame\n",
    "print(df)\n",
    "\n",
    "# 2. Print the first 5 rows of the DataFrame (default)\n",
    "print(df.head())\n",
    "\n",
    "# 3. Print the last 5 rows of the DataFrame (default)\n",
    "print(df.tail())\n",
    "\n",
    "# 4. Print the shape of the DataFrame (rows, columns)\n",
    "print(df.shape)\n",
    "\n",
    "# 5. Print the total number of elements in the DataFrame (rows * columns)\n",
    "print(df.size)\n",
    "\n",
    "# 6. Print the column names of the DataFrame\n",
    "print(df.columns)\n",
    "\n",
    "# 7. Print the data types of each column\n",
    "print(df.dtypes)\n",
    "\n",
    "# 8. Print the underlying data as a NumPy array\n",
    "print(df.values)\n",
    "\n",
    "# 9. Print the index of the DataFrame (row labels)\n",
    "print(df.index)\n"
   ]
  }
 ],
 "metadata": {
  "language_info": {
   "name": "python"
  }
 },
 "nbformat": 4,
 "nbformat_minor": 2
}
